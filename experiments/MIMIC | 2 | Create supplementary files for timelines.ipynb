{
 "cells": [
  {
   "cell_type": "code",
   "execution_count": null,
   "id": "ea37f63f",
   "metadata": {
    "tags": []
   },
   "outputs": [],
   "source": [
    "import os\n",
    "import sys\n",
    "sys.path.insert(0, \"/data/zeljko/projects/medgpt/\")\n",
    "\n",
    "os.environ['HF_DATASETS_CACHE'] = \"/data/zeljko/.cache/huggingface\"\n",
    "os.environ['TRANSFORMERS_CACHE'] = \"/data/zeljko/.cache/huggingface\"\n",
    "\n",
    "%load_ext autoreload\n",
    "%autoreload 2"
   ]
  },
  {
   "cell_type": "code",
   "execution_count": null,
   "id": "be5eb727",
   "metadata": {
    "tags": []
   },
   "outputs": [],
   "source": [
    "import pickle\n",
    "import pandas as pd\n",
    "from tokenizers.pre_tokenizers import WhitespaceSplit\n",
    "from medgpt.config import Config"
   ]
  },
  {
   "cell_type": "code",
   "execution_count": null,
   "id": "17464594-f74a-477f-8db3-99ec783d015f",
   "metadata": {
    "tags": []
   },
   "outputs": [],
   "source": [
    "config = Config(yaml_path='/home/ubuntu/projects/medgpt/configs/mimic.yaml')"
   ]
  },
  {
   "cell_type": "code",
   "execution_count": null,
   "id": "05b9d709",
   "metadata": {
    "scrolled": true
   },
   "outputs": [],
   "source": [
    "df = pd.read_csv('/data/zeljko/data/mimic/raw/noteevents.csv')"
   ]
  },
  {
   "cell_type": "markdown",
   "id": "67a8d508",
   "metadata": {},
   "source": [
    "### doc2text"
   ]
  },
  {
   "cell_type": "code",
   "execution_count": null,
   "id": "48c71b69",
   "metadata": {
    "tags": []
   },
   "outputs": [],
   "source": [
    "doc2text = {str(doc):text for doc, text in df[['row_id', 'text']].values}"
   ]
  },
  {
   "cell_type": "code",
   "execution_count": null,
   "id": "c28250e1",
   "metadata": {
    "tags": []
   },
   "outputs": [],
   "source": [
    "pickle.dump(doc2text, open(config.path.dataset.doc2text, 'wb'))"
   ]
  },
  {
   "cell_type": "markdown",
   "id": "f01ba47f-cedb-4e99-a873-5ea4e4c5ede9",
   "metadata": {},
   "source": [
    "### doc2info"
   ]
  },
  {
   "cell_type": "code",
   "execution_count": null,
   "id": "9c238940-5b02-447a-9adc-159a37655a5c",
   "metadata": {
    "tags": []
   },
   "outputs": [],
   "source": [
    "doc2info = {}"
   ]
  },
  {
   "cell_type": "code",
   "execution_count": null,
   "id": "ee893043-39f2-437c-b913-50eeec64ff60",
   "metadata": {
    "tags": []
   },
   "outputs": [],
   "source": [
    "df['chartdate'] = pd.to_datetime(df.chartdate)"
   ]
  },
  {
   "cell_type": "code",
   "execution_count": null,
   "id": "49162a21-1255-44a1-a5c6-0ef2cb9a3cb7",
   "metadata": {
    "tags": []
   },
   "outputs": [],
   "source": [
    "for id, subject_id, chartdate in df[['row_id', 'subject_id', 'chartdate']].values:\n",
    "    doc2info[str(id)] = {'pt': str(subject_id), 'time': chartdate}"
   ]
  },
  {
   "cell_type": "code",
   "execution_count": null,
   "id": "0693aac7-3066-4e48-ad29-ae1eb1636aac",
   "metadata": {
    "tags": []
   },
   "outputs": [],
   "source": [
    "pickle.dump(doc2info, open(config.path.dataset.doc2info, 'wb'))"
   ]
  },
  {
   "cell_type": "markdown",
   "id": "5ce5c48f",
   "metadata": {},
   "source": [
    "### pt2info"
   ]
  },
  {
   "cell_type": "code",
   "execution_count": null,
   "id": "ef577d96",
   "metadata": {
    "tags": []
   },
   "outputs": [],
   "source": [
    "PT_CSV_PATH = \"/home/ubuntu/data/mimic/PATIENTS.csv\"\n",
    "ADM_CSV_PATH = \"/home/ubuntu/data/mimic/ADMISSIONS.csv\""
   ]
  },
  {
   "cell_type": "code",
   "execution_count": null,
   "id": "00a9ff1c",
   "metadata": {
    "tags": []
   },
   "outputs": [],
   "source": [
    "df = pd.read_csv(PT_CSV_PATH)"
   ]
  },
  {
   "cell_type": "code",
   "execution_count": null,
   "id": "9a7fc64f",
   "metadata": {
    "tags": []
   },
   "outputs": [],
   "source": [
    "df['DOB'] = pd.to_datetime(df.DOB)\n",
    "df['DOD'] = pd.to_datetime(df.DOD)"
   ]
  },
  {
   "cell_type": "code",
   "execution_count": null,
   "id": "148111df",
   "metadata": {
    "scrolled": true,
    "tags": []
   },
   "outputs": [],
   "source": [
    "pt2info = {}\n",
    "for id, row in df.iterrows():\n",
    "    pt = str(row['SUBJECT_ID'])\n",
    "    sex = 'Unknown'\n",
    "    if row['GENDER'] == 'F':\n",
    "        sex = 'Female'\n",
    "    elif row['GENDER'] == 'M':\n",
    "        sex = 'Male'\n",
    "    \n",
    "    dod = row['DOD']\n",
    "    if pd.isna(row['DOD']):\n",
    "        dod = None\n",
    "    \n",
    "    dob = row['DOB']\n",
    "    if pd.isna(row['DOB']):\n",
    "        dob = None\n",
    "    pt2info[pt] = {'Sex': sex,\n",
    "                   'DOB': dob,\n",
    "                   'DOD': dod}"
   ]
  },
  {
   "cell_type": "code",
   "execution_count": null,
   "id": "f0bfcc60",
   "metadata": {
    "tags": []
   },
   "outputs": [],
   "source": [
    "df = pd.read_csv(ADM_CSV_PATH)"
   ]
  },
  {
   "cell_type": "code",
   "execution_count": null,
   "id": "2d7345a9",
   "metadata": {
    "tags": []
   },
   "outputs": [],
   "source": [
    "for id, row in df.iterrows():\n",
    "    eth = 'Unknown'\n",
    "    if pd.notna(row.ETHNICITY):\n",
    "        eth = row.ETHNICITY\n",
    "    pt2info[str(row['SUBJECT_ID'])]['eth'] = eth"
   ]
  },
  {
   "cell_type": "code",
   "execution_count": null,
   "id": "7b6df4ae",
   "metadata": {
    "tags": []
   },
   "outputs": [],
   "source": [
    "pickle.dump(pt2info, open(config.path.dataset.pt2info, 'wb'))"
   ]
  }
 ],
 "metadata": {
  "kernelspec": {
   "display_name": "Python 3 (ipykernel)",
   "language": "python",
   "name": "python3"
  },
  "language_info": {
   "codemirror_mode": {
    "name": "ipython",
    "version": 3
   },
   "file_extension": ".py",
   "mimetype": "text/x-python",
   "name": "python",
   "nbconvert_exporter": "python",
   "pygments_lexer": "ipython3",
   "version": "3.10.13"
  }
 },
 "nbformat": 4,
 "nbformat_minor": 5
}
